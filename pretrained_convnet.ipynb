{
 "cells": [
  {
   "cell_type": "markdown",
   "metadata": {},
   "source": [
    "### Pre-trained networks"
   ]
  },
  {
   "cell_type": "markdown",
   "metadata": {},
   "source": [
    "- A saved network previously trained on a large scale dataset\n",
    "- If this dataset is large and general enough\n",
    "    * Features learned by this pretrained network can act as a generic model\n",
    "    * Therefore can be used to different computer-vision problems"
   ]
  },
  {
   "cell_type": "markdown",
   "metadata": {},
   "source": [
    "#### There are two ways to use a pretrained network: feature extraction and fine-tuning"
   ]
  },
  {
   "cell_type": "markdown",
   "metadata": {},
   "source": [
    "### Feature extraction"
   ]
  },
  {
   "cell_type": "markdown",
   "metadata": {},
   "source": [
    "- Usage of representations learned by the pretrained network to extract new features from new samples\n",
    "- Convnet for image classification consist of two parts:\n",
    "    * The convolutional base, where generic and reusable visual concepts are learned as feature maps.\n",
    "    * Densely connected layers(classifier) where representations learned are specific to the set of classes the model was trained for "
   ]
  },
  {
   "cell_type": "markdown",
   "metadata": {},
   "source": [
    "#### That's why in this case only the conv base will be reused.\n",
    "\n",
    "Due to the hierarchical nature of representations learned by conv nets, first layers are more reusable, because they learn highly generic concepts such as edges, colors and textures, while end layers learn concepts such as \"cat ear\" or \"dog eye\"."
   ]
  },
  {
   "cell_type": "code",
   "execution_count": 2,
   "metadata": {},
   "outputs": [
    {
     "name": "stderr",
     "output_type": "stream",
     "text": [
      "Using TensorFlow backend.\n"
     ]
    }
   ],
   "source": [
    "from keras.applications import VGG16\n",
    "\n",
    "conv_base = VGG16(weights='imagenet',\n",
    "                  include_top=False,\n",
    "                  input_shape=(150, 150, 3))"
   ]
  },
  {
   "cell_type": "code",
   "execution_count": 3,
   "metadata": {
    "collapsed": true
   },
   "outputs": [
    {
     "name": "stdout",
     "output_type": "stream",
     "text": [
      "_________________________________________________________________\n",
      "Layer (type)                 Output Shape              Param #   \n",
      "=================================================================\n",
      "input_1 (InputLayer)         (None, 150, 150, 3)       0         \n",
      "_________________________________________________________________\n",
      "block1_conv1 (Conv2D)        (None, 150, 150, 64)      1792      \n",
      "_________________________________________________________________\n",
      "block1_conv2 (Conv2D)        (None, 150, 150, 64)      36928     \n",
      "_________________________________________________________________\n",
      "block1_pool (MaxPooling2D)   (None, 75, 75, 64)        0         \n",
      "_________________________________________________________________\n",
      "block2_conv1 (Conv2D)        (None, 75, 75, 128)       73856     \n",
      "_________________________________________________________________\n",
      "block2_conv2 (Conv2D)        (None, 75, 75, 128)       147584    \n",
      "_________________________________________________________________\n",
      "block2_pool (MaxPooling2D)   (None, 37, 37, 128)       0         \n",
      "_________________________________________________________________\n",
      "block3_conv1 (Conv2D)        (None, 37, 37, 256)       295168    \n",
      "_________________________________________________________________\n",
      "block3_conv2 (Conv2D)        (None, 37, 37, 256)       590080    \n",
      "_________________________________________________________________\n",
      "block3_conv3 (Conv2D)        (None, 37, 37, 256)       590080    \n",
      "_________________________________________________________________\n",
      "block3_pool (MaxPooling2D)   (None, 18, 18, 256)       0         \n",
      "_________________________________________________________________\n",
      "block4_conv1 (Conv2D)        (None, 18, 18, 512)       1180160   \n",
      "_________________________________________________________________\n",
      "block4_conv2 (Conv2D)        (None, 18, 18, 512)       2359808   \n",
      "_________________________________________________________________\n",
      "block4_conv3 (Conv2D)        (None, 18, 18, 512)       2359808   \n",
      "_________________________________________________________________\n",
      "block4_pool (MaxPooling2D)   (None, 9, 9, 512)         0         \n",
      "_________________________________________________________________\n",
      "block5_conv1 (Conv2D)        (None, 9, 9, 512)         2359808   \n",
      "_________________________________________________________________\n",
      "block5_conv2 (Conv2D)        (None, 9, 9, 512)         2359808   \n",
      "_________________________________________________________________\n",
      "block5_conv3 (Conv2D)        (None, 9, 9, 512)         2359808   \n",
      "_________________________________________________________________\n",
      "block5_pool (MaxPooling2D)   (None, 4, 4, 512)         0         \n",
      "=================================================================\n",
      "Total params: 14,714,688\n",
      "Trainable params: 14,714,688\n",
      "Non-trainable params: 0\n",
      "_________________________________________________________________\n"
     ]
    }
   ],
   "source": [
    "conv_base.summary()"
   ]
  },
  {
   "cell_type": "markdown",
   "metadata": {},
   "source": [
    "### Fast feature extraction without data augmentation"
   ]
  },
  {
   "cell_type": "markdown",
   "metadata": {},
   "source": [
    "1) Run the convolutional base over your dataset and generates the output feature map of every input\n",
    "\n",
    "2) Train a densely connected classifier with those output feature map\n",
    "\n",
    "- Pros:\n",
    "    * Fast because the convolutional base is ran only once for each image\n",
    "- Con:\n",
    "    * For the same reason, it can't be used with data augmentation"
   ]
  },
  {
   "cell_type": "code",
   "execution_count": 7,
   "metadata": {},
   "outputs": [],
   "source": [
    "import os\n",
    "base_dir = '../../../newvolume/cat-dog-data/cats_and_dogs_small'\n",
    "train_dir = os.path.join(base_dir, 'train')\n",
    "validation_dir = os.path.join(base_dir, 'validation')\n",
    "test_dir = os.path.join(base_dir, 'test')"
   ]
  },
  {
   "cell_type": "code",
   "execution_count": 4,
   "metadata": {},
   "outputs": [
    {
     "name": "stdout",
     "output_type": "stream",
     "text": [
      "Found 2000 images belonging to 2 classes.\n",
      "Found 1000 images belonging to 2 classes.\n",
      "Found 1000 images belonging to 2 classes.\n"
     ]
    }
   ],
   "source": [
    "import numpy as np\n",
    "from keras.preprocessing.image import ImageDataGenerator\n",
    "\n",
    "datagen = ImageDataGenerator(rescale=1./255)\n",
    "batch_size = 20\n",
    "\n",
    "def extract_features(directory, sample_count):\n",
    "    features = np.zeros(shape=(sample_count, 4, 4, 512))\n",
    "    labels = np.zeros(shape=(sample_count))\n",
    "    generator = datagen.flow_from_directory(\n",
    "        directory,\n",
    "        target_size=(150, 150),\n",
    "        batch_size=batch_size,\n",
    "        class_mode='binary'\n",
    "    )\n",
    "    i = 0\n",
    "    for inputs_batch, labels_batch in generator:\n",
    "        features_batch = conv_base.predict(inputs_batch)\n",
    "        features[i * batch_size : (i + 1) * batch_size] = features_batch\n",
    "        labels[i * batch_size : (i + 1) * batch_size] = labels_batch\n",
    "        i += 1\n",
    "        if i * batch_size >= sample_count:\n",
    "            break\n",
    "    return features, labels\n",
    "\n",
    "train_features, train_labels = extract_features(train_dir, 2000)\n",
    "validation_features, validation_labels = extract_features(validation_dir, 1000)\n",
    "test_features, test_labels = extract_features(test_dir, 1000)"
   ]
  },
  {
   "cell_type": "code",
   "execution_count": 5,
   "metadata": {},
   "outputs": [],
   "source": [
    "train_features = np.reshape(train_features, (2000, 4 * 4 * 512))\n",
    "validation_features = np.reshape(validation_features, (1000, 4 * 4 * 512))\n",
    "test_features = np.reshape(test_features, (1000, 4 * 4 * 512))"
   ]
  },
  {
   "cell_type": "code",
   "execution_count": 6,
   "metadata": {
    "collapsed": true
   },
   "outputs": [
    {
     "name": "stdout",
     "output_type": "stream",
     "text": [
      "Train on 2000 samples, validate on 1000 samples\n",
      "Epoch 1/30\n",
      "2000/2000 [==============================] - 1s 528us/step - loss: 0.6223 - acc: 0.6515 - val_loss: 0.4557 - val_acc: 0.8250\n",
      "Epoch 2/30\n",
      "2000/2000 [==============================] - 1s 312us/step - loss: 0.4449 - acc: 0.7910 - val_loss: 0.3711 - val_acc: 0.8610\n",
      "Epoch 3/30\n",
      "2000/2000 [==============================] - 1s 315us/step - loss: 0.3676 - acc: 0.8430 - val_loss: 0.3297 - val_acc: 0.8680\n",
      "Epoch 4/30\n",
      "2000/2000 [==============================] - 1s 312us/step - loss: 0.3246 - acc: 0.8600 - val_loss: 0.3050 - val_acc: 0.8780\n",
      "Epoch 5/30\n",
      "2000/2000 [==============================] - 1s 310us/step - loss: 0.2905 - acc: 0.8795 - val_loss: 0.2897 - val_acc: 0.8910\n",
      "Epoch 6/30\n",
      "2000/2000 [==============================] - 1s 310us/step - loss: 0.2665 - acc: 0.8895 - val_loss: 0.2833 - val_acc: 0.8800\n",
      "Epoch 7/30\n",
      "2000/2000 [==============================] - 1s 309us/step - loss: 0.2493 - acc: 0.9015 - val_loss: 0.2736 - val_acc: 0.8830\n",
      "Epoch 8/30\n",
      "2000/2000 [==============================] - 1s 312us/step - loss: 0.2305 - acc: 0.9165 - val_loss: 0.2618 - val_acc: 0.8870\n",
      "Epoch 9/30\n",
      "2000/2000 [==============================] - 1s 312us/step - loss: 0.2191 - acc: 0.9190 - val_loss: 0.2568 - val_acc: 0.8940\n",
      "Epoch 10/30\n",
      "2000/2000 [==============================] - 1s 310us/step - loss: 0.2052 - acc: 0.9195 - val_loss: 0.2533 - val_acc: 0.8910\n",
      "Epoch 11/30\n",
      "2000/2000 [==============================] - 1s 308us/step - loss: 0.2010 - acc: 0.9240 - val_loss: 0.2478 - val_acc: 0.8940\n",
      "Epoch 12/30\n",
      "2000/2000 [==============================] - 1s 312us/step - loss: 0.1934 - acc: 0.9270 - val_loss: 0.2479 - val_acc: 0.8980\n",
      "Epoch 13/30\n",
      "2000/2000 [==============================] - 1s 312us/step - loss: 0.1829 - acc: 0.9335 - val_loss: 0.2454 - val_acc: 0.8990\n",
      "Epoch 14/30\n",
      "2000/2000 [==============================] - 1s 312us/step - loss: 0.1731 - acc: 0.9360 - val_loss: 0.2450 - val_acc: 0.8980\n",
      "Epoch 15/30\n",
      "2000/2000 [==============================] - 1s 310us/step - loss: 0.1650 - acc: 0.9430 - val_loss: 0.2408 - val_acc: 0.9020\n",
      "Epoch 16/30\n",
      "2000/2000 [==============================] - 1s 309us/step - loss: 0.1571 - acc: 0.9420 - val_loss: 0.2392 - val_acc: 0.9010\n",
      "Epoch 17/30\n",
      "2000/2000 [==============================] - 1s 313us/step - loss: 0.1470 - acc: 0.9515 - val_loss: 0.2389 - val_acc: 0.9020\n",
      "Epoch 18/30\n",
      "2000/2000 [==============================] - 1s 315us/step - loss: 0.1432 - acc: 0.9520 - val_loss: 0.2373 - val_acc: 0.9050\n",
      "Epoch 19/30\n",
      "2000/2000 [==============================] - 1s 311us/step - loss: 0.1371 - acc: 0.9505 - val_loss: 0.2402 - val_acc: 0.8990\n",
      "Epoch 20/30\n",
      "2000/2000 [==============================] - 1s 310us/step - loss: 0.1398 - acc: 0.9510 - val_loss: 0.2393 - val_acc: 0.9010\n",
      "Epoch 21/30\n",
      "2000/2000 [==============================] - 1s 311us/step - loss: 0.1259 - acc: 0.9580 - val_loss: 0.2420 - val_acc: 0.9010\n",
      "Epoch 22/30\n",
      "2000/2000 [==============================] - 1s 310us/step - loss: 0.1222 - acc: 0.9620 - val_loss: 0.2383 - val_acc: 0.9020\n",
      "Epoch 23/30\n",
      "2000/2000 [==============================] - 1s 308us/step - loss: 0.1123 - acc: 0.9625 - val_loss: 0.2425 - val_acc: 0.9010\n",
      "Epoch 24/30\n",
      "2000/2000 [==============================] - 1s 307us/step - loss: 0.1143 - acc: 0.9655 - val_loss: 0.2421 - val_acc: 0.9000\n",
      "Epoch 25/30\n",
      "2000/2000 [==============================] - 1s 312us/step - loss: 0.1085 - acc: 0.9625 - val_loss: 0.2394 - val_acc: 0.8990\n",
      "Epoch 26/30\n",
      "2000/2000 [==============================] - 1s 311us/step - loss: 0.1042 - acc: 0.9670 - val_loss: 0.2373 - val_acc: 0.9030\n",
      "Epoch 27/30\n",
      "2000/2000 [==============================] - 1s 312us/step - loss: 0.1030 - acc: 0.9695 - val_loss: 0.2450 - val_acc: 0.9010\n",
      "Epoch 28/30\n",
      "2000/2000 [==============================] - 1s 313us/step - loss: 0.0974 - acc: 0.9695 - val_loss: 0.2433 - val_acc: 0.9010\n",
      "Epoch 29/30\n",
      "2000/2000 [==============================] - 1s 315us/step - loss: 0.0919 - acc: 0.9720 - val_loss: 0.2412 - val_acc: 0.9010\n",
      "Epoch 30/30\n",
      "2000/2000 [==============================] - 1s 319us/step - loss: 0.0890 - acc: 0.9710 - val_loss: 0.2467 - val_acc: 0.8980\n"
     ]
    }
   ],
   "source": [
    "from keras import models\n",
    "from keras import layers\n",
    "from keras import optimizers\n",
    "\n",
    "model = models.Sequential()\n",
    "model.add(layers.Dense(256, activation='relu', input_dim=4 * 4 * 512))\n",
    "model.add(layers.Dropout(0.5))\n",
    "model.add(layers.Dense(1, activation='sigmoid'))\n",
    "\n",
    "model.compile(optimizer=optimizers.RMSprop(lr=2e-5),\n",
    "              loss='binary_crossentropy',\n",
    "              metrics=['acc'])\n",
    "\n",
    "history = model.fit(train_features, train_labels,\n",
    "                    epochs=30,\n",
    "                    batch_size=20,\n",
    "                    validation_data=(validation_features, validation_labels))"
   ]
  },
  {
   "cell_type": "code",
   "execution_count": 9,
   "metadata": {
    "scrolled": true
   },
   "outputs": [
    {
     "data": {
      "image/png": "[encoded data removed]",
      "text/plain": [
       "<Figure size 432x288 with 1 Axes>"
      ]
     },
     "metadata": {},
     "output_type": "display_data"
    },
    {
     "data": {
      "image/png": "[encoded data removed]",
      "text/plain": [
       "<Figure size 432x288 with 1 Axes>"
      ]
     },
     "metadata": {},
     "output_type": "display_data"
    }
   ],
   "source": [
    "import matplotlib.pyplot as plt\n",
    "\n",
    "acc = history.history['acc']\n",
    "val_acc = history.history['val_acc']\n",
    "loss = history.history['loss']\n",
    "val_loss = history.history['val_loss']\n",
    "\n",
    "epochs = range(1, len(acc) + 1)\n",
    "\n",
    "plt.plot(epochs, acc, 'bo', label='Training acc')\n",
    "plt.plot(epochs, val_acc, 'b', label='Validation acc')\n",
    "plt.title('Training and validation accuracy')\n",
    "plt.legend()\n",
    "\n",
    "plt.figure()\n",
    "\n",
    "plt.plot(epochs, loss, 'bo', label='Training loss')\n",
    "plt.plot(epochs, val_loss, 'b', label='Validation loss')\n",
    "plt.title('Training and validation loss')\n",
    "plt.legend()\n",
    "\n",
    "plt.show()"
   ]
  },
  {
   "cell_type": "markdown",
   "metadata": {},
   "source": [
    "### Feature extraction with data augmentation"
   ]
  },
  {
   "cell_type": "markdown",
   "metadata": {},
   "source": [
    "Instead of running data only once to extract the output feature maps of each input from the conv base, now the conv base is extended with the densely connected layers and this way allowing data augmentation to be used.\n",
    "\n",
    "- Pros:\n",
    "    * end to end execution with conv base, allowing data augmentation\n",
    "- Con:\n",
    "    * computationally expensive"
   ]
  },
  {
   "cell_type": "code",
   "execution_count": 3,
   "metadata": {},
   "outputs": [],
   "source": [
    "from keras import models\n",
    "from keras import layers\n",
    "\n",
    "model = models.Sequential()\n",
    "model.add(conv_base)\n",
    "model.add(layers.Flatten())\n",
    "model.add(layers.Dense(256, activation='relu'))\n",
    "model.add(layers.Dense(1, activation='sigmoid'))"
   ]
  },
  {
   "cell_type": "code",
   "execution_count": 4,
   "metadata": {},
   "outputs": [
    {
     "name": "stdout",
     "output_type": "stream",
     "text": [
      "_________________________________________________________________\n",
      "Layer (type)                 Output Shape              Param #   \n",
      "=================================================================\n",
      "vgg16 (Model)                (None, 4, 4, 512)         14714688  \n",
      "_________________________________________________________________\n",
      "flatten_1 (Flatten)          (None, 8192)              0         \n",
      "_________________________________________________________________\n",
      "dense_1 (Dense)              (None, 256)               2097408   \n",
      "_________________________________________________________________\n",
      "dense_2 (Dense)              (None, 1)                 257       \n",
      "=================================================================\n",
      "Total params: 16,812,353\n",
      "Trainable params: 16,812,353\n",
      "Non-trainable params: 0\n",
      "_________________________________________________________________\n"
     ]
    }
   ],
   "source": [
    "model.summary()"
   ]
  },
  {
   "cell_type": "code",
   "execution_count": 5,
   "metadata": {},
   "outputs": [],
   "source": [
    "conv_base.trainable = False # freeze layer to not update the weights while training"
   ]
  },
  {
   "cell_type": "code",
   "execution_count": 8,
   "metadata": {
    "scrolled": true
   },
   "outputs": [
    {
     "name": "stdout",
     "output_type": "stream",
     "text": [
      "Found 2000 images belonging to 2 classes.\n",
      "Found 1000 images belonging to 2 classes.\n",
      "Epoch 1/30\n",
      "100/100 [==============================] - 24s 235ms/step - loss: 0.5996 - acc: 0.6845 - val_loss: 0.4576 - val_acc: 0.8220\n",
      "Epoch 2/30\n",
      "100/100 [==============================] - 21s 206ms/step - loss: 0.4951 - acc: 0.7680 - val_loss: 0.3741 - val_acc: 0.8630\n",
      "Epoch 3/30\n",
      "100/100 [==============================] - 21s 206ms/step - loss: 0.4418 - acc: 0.8020 - val_loss: 0.3434 - val_acc: 0.8580\n",
      "Epoch 4/30\n",
      "100/100 [==============================] - 21s 207ms/step - loss: 0.4194 - acc: 0.8160 - val_loss: 0.3132 - val_acc: 0.8790\n",
      "Epoch 5/30\n",
      "100/100 [==============================] - 21s 206ms/step - loss: 0.3882 - acc: 0.8315 - val_loss: 0.3021 - val_acc: 0.8780\n",
      "Epoch 6/30\n",
      "100/100 [==============================] - 21s 207ms/step - loss: 0.3668 - acc: 0.8430 - val_loss: 0.2941 - val_acc: 0.8760\n",
      "Epoch 7/30\n",
      "100/100 [==============================] - 21s 207ms/step - loss: 0.3567 - acc: 0.8390 - val_loss: 0.2760 - val_acc: 0.8880\n",
      "Epoch 8/30\n",
      "100/100 [==============================] - 21s 206ms/step - loss: 0.3494 - acc: 0.8490 - val_loss: 0.2773 - val_acc: 0.8870\n",
      "Epoch 9/30\n",
      "100/100 [==============================] - 21s 207ms/step - loss: 0.3522 - acc: 0.8550 - val_loss: 0.2615 - val_acc: 0.8940\n",
      "Epoch 10/30\n",
      "100/100 [==============================] - 21s 207ms/step - loss: 0.3460 - acc: 0.8510 - val_loss: 0.2582 - val_acc: 0.8970\n",
      "Epoch 11/30\n",
      "100/100 [==============================] - 21s 207ms/step - loss: 0.3362 - acc: 0.8495 - val_loss: 0.2596 - val_acc: 0.8930\n",
      "Epoch 12/30\n",
      "100/100 [==============================] - 21s 206ms/step - loss: 0.3322 - acc: 0.8565 - val_loss: 0.2570 - val_acc: 0.8970\n",
      "Epoch 13/30\n",
      "100/100 [==============================] - 21s 207ms/step - loss: 0.3107 - acc: 0.8750 - val_loss: 0.2713 - val_acc: 0.8820\n",
      "Epoch 14/30\n",
      "100/100 [==============================] - 21s 207ms/step - loss: 0.3167 - acc: 0.8640 - val_loss: 0.2520 - val_acc: 0.9000\n",
      "Epoch 15/30\n",
      "100/100 [==============================] - 21s 206ms/step - loss: 0.3129 - acc: 0.8690 - val_loss: 0.2498 - val_acc: 0.9010\n",
      "Epoch 16/30\n",
      "100/100 [==============================] - 21s 206ms/step - loss: 0.3194 - acc: 0.8710 - val_loss: 0.2483 - val_acc: 0.9020\n",
      "Epoch 17/30\n",
      "100/100 [==============================] - 21s 206ms/step - loss: 0.3007 - acc: 0.8720 - val_loss: 0.2558 - val_acc: 0.8970\n",
      "Epoch 18/30\n",
      "100/100 [==============================] - 21s 206ms/step - loss: 0.3025 - acc: 0.8715 - val_loss: 0.2497 - val_acc: 0.8990\n",
      "Epoch 19/30\n",
      "100/100 [==============================] - 21s 208ms/step - loss: 0.3158 - acc: 0.8665 - val_loss: 0.2478 - val_acc: 0.8960\n",
      "Epoch 20/30\n",
      "100/100 [==============================] - 21s 208ms/step - loss: 0.3009 - acc: 0.8690 - val_loss: 0.2483 - val_acc: 0.8930\n",
      "Epoch 21/30\n",
      "100/100 [==============================] - 21s 205ms/step - loss: 0.2923 - acc: 0.8685 - val_loss: 0.2452 - val_acc: 0.8990\n",
      "Epoch 22/30\n",
      "100/100 [==============================] - 21s 205ms/step - loss: 0.2933 - acc: 0.8800 - val_loss: 0.2535 - val_acc: 0.8960\n",
      "Epoch 23/30\n",
      "100/100 [==============================] - 21s 206ms/step - loss: 0.2935 - acc: 0.8685 - val_loss: 0.2459 - val_acc: 0.8940\n",
      "Epoch 24/30\n",
      "100/100 [==============================] - 21s 208ms/step - loss: 0.2905 - acc: 0.8815 - val_loss: 0.2462 - val_acc: 0.8940\n",
      "Epoch 25/30\n",
      "100/100 [==============================] - 21s 208ms/step - loss: 0.2922 - acc: 0.8750 - val_loss: 0.2519 - val_acc: 0.8970\n",
      "Epoch 26/30\n",
      "100/100 [==============================] - 21s 206ms/step - loss: 0.2875 - acc: 0.8765 - val_loss: 0.2432 - val_acc: 0.8950\n",
      "Epoch 27/30\n",
      "100/100 [==============================] - 21s 206ms/step - loss: 0.2884 - acc: 0.8750 - val_loss: 0.2446 - val_acc: 0.8930\n",
      "Epoch 28/30\n",
      "100/100 [==============================] - 21s 206ms/step - loss: 0.2783 - acc: 0.8845 - val_loss: 0.2473 - val_acc: 0.8960\n",
      "Epoch 29/30\n",
      "100/100 [==============================] - 21s 206ms/step - loss: 0.2810 - acc: 0.8815 - val_loss: 0.2547 - val_acc: 0.8990\n",
      "Epoch 30/30\n",
      "100/100 [==============================] - 21s 206ms/step - loss: 0.2965 - acc: 0.8670 - val_loss: 0.2486 - val_acc: 0.9050\n"
     ]
    }
   ],
   "source": [
    "from keras.preprocessing.image import ImageDataGenerator\n",
    "from keras import optimizers\n",
    "\n",
    "train_datagen = ImageDataGenerator(\n",
    "      rescale=1./255,\n",
    "      rotation_range=40,\n",
    "      width_shift_range=0.2,\n",
    "      height_shift_range=0.2,\n",
    "      shear_range=0.2,\n",
    "      zoom_range=0.2,\n",
    "      horizontal_flip=True,\n",
    "      fill_mode='nearest')\n",
    "\n",
    "test_datagen = ImageDataGenerator(rescale=1./255)\n",
    "\n",
    "train_generator = train_datagen.flow_from_directory(\n",
    "        train_dir,\n",
    "        target_size=(150, 150),\n",
    "        batch_size=20,\n",
    "        class_mode='binary')\n",
    "\n",
    "validation_generator = test_datagen.flow_from_directory(\n",
    "        validation_dir,\n",
    "        target_size=(150, 150),\n",
    "        batch_size=20,\n",
    "        class_mode='binary')\n",
    "\n",
    "model.compile(loss='binary_crossentropy',\n",
    "              optimizer=optimizers.RMSprop(lr=2e-5),\n",
    "              metrics=['acc'])\n",
    "\n",
    "history = model.fit_generator(\n",
    "      train_generator,\n",
    "      steps_per_epoch=100,\n",
    "      epochs=30,\n",
    "      validation_data=validation_generator,\n",
    "      validation_steps=50)"
   ]
  },
  {
   "cell_type": "code",
   "execution_count": 10,
   "metadata": {
    "collapsed": true
   },
   "outputs": [
    {
     "data": {
      "image/png": "[encoded data removed]",
      "text/plain": [
       "<Figure size 432x288 with 1 Axes>"
      ]
     },
     "metadata": {},
     "output_type": "display_data"
    },
    {
     "data": {
      "image/png": "[encoded data removed]",
      "text/plain": [
       "<Figure size 432x288 with 1 Axes>"
      ]
     },
     "metadata": {},
     "output_type": "display_data"
    }
   ],
   "source": [
    "import matplotlib.pyplot as plt\n",
    "\n",
    "acc = history.history['acc']\n",
    "val_acc = history.history['val_acc']\n",
    "loss = history.history['loss']\n",
    "val_loss = history.history['val_loss']\n",
    "\n",
    "epochs = range(1, len(acc) + 1)\n",
    "\n",
    "plt.plot(epochs, acc, 'bo', label='Training acc')\n",
    "plt.plot(epochs, val_acc, 'b', label='Validation acc')\n",
    "plt.title('Training and validation accuracy')\n",
    "plt.legend()\n",
    "\n",
    "plt.figure()\n",
    "\n",
    "plt.plot(epochs, loss, 'bo', label='Training loss')\n",
    "plt.plot(epochs, val_loss, 'b', label='Validation loss')\n",
    "plt.title('Training and validation loss')\n",
    "plt.legend()\n",
    "\n",
    "plt.show()"
   ]
  },
  {
   "cell_type": "markdown",
   "metadata": {},
   "source": [
    "### Fine tuning"
   ]
  },
  {
   "cell_type": "markdown",
   "metadata": {},
   "source": [
    "Complementary to feature extraction, with fine tuning you unfreeze the last layers of the conv base, where features learned are less generic and train them with an *already trained densely connected classifier*, adjusting them to the new problem at hand.\n",
    "\n",
    "Why already trained? Because if you allow them to be updated with randomly initialized layers, the error signal propagated through the network is going to be too large and destroy previously learned representations."
   ]
  },
  {
   "cell_type": "code",
   "execution_count": 13,
   "metadata": {},
   "outputs": [],
   "source": [
    "conv_base.trainable = True\n",
    "\n",
    "set_trainable = False\n",
    "for layer in conv_base.layers:\n",
    "    if layer.name == 'block5_conv1':\n",
    "        set_trainable = True\n",
    "    if set_trainable:\n",
    "        layer.trainable = True\n",
    "    else:\n",
    "        layer.trainable = False"
   ]
  },
  {
   "cell_type": "code",
   "execution_count": 14,
   "metadata": {
    "collapsed": true
   },
   "outputs": [
    {
     "name": "stdout",
     "output_type": "stream",
     "text": [
      "Epoch 1/100\n",
      "100/100 [==============================] - 24s 241ms/step - loss: 0.2698 - acc: 0.8800 - val_loss: 0.2444 - val_acc: 0.8980\n",
      "Epoch 2/100\n",
      "100/100 [==============================] - 23s 230ms/step - loss: 0.2367 - acc: 0.9035 - val_loss: 0.2152 - val_acc: 0.9180\n",
      "Epoch 3/100\n",
      "100/100 [==============================] - 23s 231ms/step - loss: 0.2265 - acc: 0.9050 - val_loss: 0.2385 - val_acc: 0.9150\n",
      "Epoch 4/100\n",
      "100/100 [==============================] - 23s 231ms/step - loss: 0.2102 - acc: 0.9130 - val_loss: 0.1835 - val_acc: 0.9230\n",
      "Epoch 5/100\n",
      "100/100 [==============================] - 23s 232ms/step - loss: 0.2075 - acc: 0.9115 - val_loss: 0.1989 - val_acc: 0.9130\n",
      "Epoch 6/100\n",
      "100/100 [==============================] - 23s 233ms/step - loss: 0.1749 - acc: 0.9305 - val_loss: 0.2252 - val_acc: 0.9200\n",
      "Epoch 7/100\n",
      "100/100 [==============================] - 23s 233ms/step - loss: 0.1727 - acc: 0.9260 - val_loss: 0.2802 - val_acc: 0.9000\n",
      "Epoch 8/100\n",
      "100/100 [==============================] - 23s 232ms/step - loss: 0.1611 - acc: 0.9365 - val_loss: 0.2033 - val_acc: 0.9230\n",
      "Epoch 9/100\n",
      "100/100 [==============================] - 23s 232ms/step - loss: 0.1551 - acc: 0.9340 - val_loss: 0.1661 - val_acc: 0.9290\n",
      "Epoch 10/100\n",
      "100/100 [==============================] - 23s 232ms/step - loss: 0.1454 - acc: 0.9400 - val_loss: 0.2151 - val_acc: 0.9220\n",
      "Epoch 11/100\n",
      "100/100 [==============================] - 23s 231ms/step - loss: 0.1367 - acc: 0.9405 - val_loss: 0.2006 - val_acc: 0.9320\n",
      "Epoch 12/100\n",
      "100/100 [==============================] - 23s 231ms/step - loss: 0.1314 - acc: 0.9435 - val_loss: 0.3399 - val_acc: 0.8880\n",
      "Epoch 13/100\n",
      "100/100 [==============================] - 23s 231ms/step - loss: 0.1417 - acc: 0.9455 - val_loss: 0.1795 - val_acc: 0.9340\n",
      "Epoch 14/100\n",
      "100/100 [==============================] - 23s 232ms/step - loss: 0.1069 - acc: 0.9590 - val_loss: 0.2096 - val_acc: 0.9250\n",
      "Epoch 15/100\n",
      "100/100 [==============================] - 23s 232ms/step - loss: 0.1172 - acc: 0.9565 - val_loss: 0.1972 - val_acc: 0.9250\n",
      "Epoch 16/100\n",
      "100/100 [==============================] - 23s 232ms/step - loss: 0.1125 - acc: 0.9550 - val_loss: 0.1958 - val_acc: 0.9270\n",
      "Epoch 17/100\n",
      "100/100 [==============================] - 23s 232ms/step - loss: 0.1021 - acc: 0.9565 - val_loss: 0.1716 - val_acc: 0.9370\n",
      "Epoch 18/100\n",
      "100/100 [==============================] - 23s 231ms/step - loss: 0.1032 - acc: 0.9575 - val_loss: 0.2364 - val_acc: 0.9240\n",
      "Epoch 19/100\n",
      "100/100 [==============================] - 23s 232ms/step - loss: 0.0918 - acc: 0.9650 - val_loss: 0.2019 - val_acc: 0.9340\n",
      "Epoch 20/100\n",
      "100/100 [==============================] - 23s 231ms/step - loss: 0.0783 - acc: 0.9680 - val_loss: 0.1972 - val_acc: 0.9430\n",
      "Epoch 21/100\n",
      "100/100 [==============================] - 23s 232ms/step - loss: 0.0952 - acc: 0.9645 - val_loss: 0.2493 - val_acc: 0.9260\n",
      "Epoch 22/100\n",
      "100/100 [==============================] - 23s 232ms/step - loss: 0.0850 - acc: 0.9675 - val_loss: 0.1986 - val_acc: 0.9290\n",
      "Epoch 23/100\n",
      "100/100 [==============================] - 23s 232ms/step - loss: 0.0783 - acc: 0.9715 - val_loss: 0.2313 - val_acc: 0.9330\n",
      "Epoch 24/100\n",
      "100/100 [==============================] - 23s 232ms/step - loss: 0.0870 - acc: 0.9665 - val_loss: 0.2005 - val_acc: 0.9200\n",
      "Epoch 25/100\n",
      "100/100 [==============================] - 23s 232ms/step - loss: 0.0746 - acc: 0.9730 - val_loss: 0.2311 - val_acc: 0.9250\n",
      "Epoch 26/100\n",
      "100/100 [==============================] - 23s 232ms/step - loss: 0.0765 - acc: 0.9710 - val_loss: 0.2108 - val_acc: 0.9290\n",
      "Epoch 27/100\n",
      "100/100 [==============================] - 23s 232ms/step - loss: 0.0719 - acc: 0.9700 - val_loss: 0.1609 - val_acc: 0.9430\n",
      "Epoch 28/100\n",
      "100/100 [==============================] - 23s 231ms/step - loss: 0.0636 - acc: 0.9760 - val_loss: 0.2743 - val_acc: 0.9140\n",
      "Epoch 29/100\n",
      "100/100 [==============================] - 23s 232ms/step - loss: 0.0622 - acc: 0.9770 - val_loss: 0.2028 - val_acc: 0.9320\n",
      "Epoch 30/100\n",
      "100/100 [==============================] - 23s 232ms/step - loss: 0.0711 - acc: 0.9725 - val_loss: 0.1896 - val_acc: 0.9310\n",
      "Epoch 31/100\n",
      "100/100 [==============================] - 23s 232ms/step - loss: 0.0649 - acc: 0.9765 - val_loss: 0.2284 - val_acc: 0.9240\n",
      "Epoch 32/100\n",
      "100/100 [==============================] - 23s 232ms/step - loss: 0.0648 - acc: 0.9750 - val_loss: 0.1767 - val_acc: 0.9430\n",
      "Epoch 33/100\n",
      "100/100 [==============================] - 23s 232ms/step - loss: 0.0665 - acc: 0.9750 - val_loss: 0.2110 - val_acc: 0.9270\n",
      "Epoch 34/100\n",
      "100/100 [==============================] - 23s 232ms/step - loss: 0.0509 - acc: 0.9840 - val_loss: 0.2106 - val_acc: 0.9390\n",
      "Epoch 35/100\n",
      "100/100 [==============================] - 23s 232ms/step - loss: 0.0539 - acc: 0.9825 - val_loss: 0.1898 - val_acc: 0.9320\n",
      "Epoch 36/100\n",
      "100/100 [==============================] - 23s 232ms/step - loss: 0.0629 - acc: 0.9760 - val_loss: 0.2004 - val_acc: 0.9350\n",
      "Epoch 37/100\n",
      "100/100 [==============================] - 23s 232ms/step - loss: 0.0505 - acc: 0.9805 - val_loss: 0.1729 - val_acc: 0.9410\n",
      "Epoch 38/100\n",
      "100/100 [==============================] - 23s 232ms/step - loss: 0.0592 - acc: 0.9810 - val_loss: 0.2988 - val_acc: 0.9240\n",
      "Epoch 39/100\n",
      "100/100 [==============================] - 23s 232ms/step - loss: 0.0618 - acc: 0.9785 - val_loss: 0.2143 - val_acc: 0.9360\n",
      "Epoch 40/100\n",
      "100/100 [==============================] - 23s 232ms/step - loss: 0.0517 - acc: 0.9830 - val_loss: 0.2472 - val_acc: 0.9340\n",
      "Epoch 41/100\n",
      "100/100 [==============================] - 23s 233ms/step - loss: 0.0513 - acc: 0.9820 - val_loss: 0.2397 - val_acc: 0.9250\n",
      "Epoch 42/100\n",
      "100/100 [==============================] - 23s 233ms/step - loss: 0.0440 - acc: 0.9820 - val_loss: 0.2124 - val_acc: 0.9340\n",
      "Epoch 43/100\n",
      "100/100 [==============================] - 23s 232ms/step - loss: 0.0426 - acc: 0.9845 - val_loss: 0.2471 - val_acc: 0.9340\n",
      "Epoch 44/100\n",
      "100/100 [==============================] - 23s 232ms/step - loss: 0.0480 - acc: 0.9805 - val_loss: 0.2385 - val_acc: 0.9360\n",
      "Epoch 45/100\n",
      "100/100 [==============================] - 23s 233ms/step - loss: 0.0441 - acc: 0.9840 - val_loss: 0.4013 - val_acc: 0.9080\n",
      "Epoch 46/100\n",
      "100/100 [==============================] - 23s 233ms/step - loss: 0.0416 - acc: 0.9835 - val_loss: 0.2398 - val_acc: 0.9350\n",
      "Epoch 47/100\n",
      "100/100 [==============================] - 23s 233ms/step - loss: 0.0371 - acc: 0.9885 - val_loss: 0.2168 - val_acc: 0.9400\n",
      "Epoch 48/100\n",
      "100/100 [==============================] - 23s 233ms/step - loss: 0.0462 - acc: 0.9830 - val_loss: 0.1932 - val_acc: 0.9440\n",
      "Epoch 49/100\n",
      "100/100 [==============================] - 23s 233ms/step - loss: 0.0456 - acc: 0.9850 - val_loss: 0.2108 - val_acc: 0.9340\n",
      "Epoch 50/100\n",
      "100/100 [==============================] - 23s 233ms/step - loss: 0.0342 - acc: 0.9895 - val_loss: 0.2687 - val_acc: 0.9360\n",
      "Epoch 51/100\n",
      "100/100 [==============================] - 23s 233ms/step - loss: 0.0411 - acc: 0.9855 - val_loss: 0.2499 - val_acc: 0.9380\n",
      "Epoch 52/100\n",
      "100/100 [==============================] - 23s 233ms/step - loss: 0.0347 - acc: 0.9870 - val_loss: 0.2479 - val_acc: 0.9180\n",
      "Epoch 53/100\n",
      "100/100 [==============================] - 23s 233ms/step - loss: 0.0389 - acc: 0.9865 - val_loss: 0.2011 - val_acc: 0.9470\n",
      "Epoch 54/100\n",
      "100/100 [==============================] - 23s 232ms/step - loss: 0.0373 - acc: 0.9865 - val_loss: 0.2352 - val_acc: 0.9190\n",
      "Epoch 55/100\n",
      "100/100 [==============================] - 23s 232ms/step - loss: 0.0345 - acc: 0.9900 - val_loss: 0.2278 - val_acc: 0.9250\n",
      "Epoch 56/100\n",
      "100/100 [==============================] - 23s 232ms/step - loss: 0.0282 - acc: 0.9895 - val_loss: 0.3047 - val_acc: 0.9240\n",
      "Epoch 57/100\n",
      "100/100 [==============================] - 23s 231ms/step - loss: 0.0284 - acc: 0.9905 - val_loss: 0.2529 - val_acc: 0.9370\n",
      "Epoch 58/100\n",
      "100/100 [==============================] - 23s 232ms/step - loss: 0.0292 - acc: 0.9905 - val_loss: 0.2426 - val_acc: 0.9460\n",
      "Epoch 59/100\n",
      "100/100 [==============================] - 23s 232ms/step - loss: 0.0373 - acc: 0.9860 - val_loss: 0.2694 - val_acc: 0.9330\n",
      "Epoch 60/100\n",
      "100/100 [==============================] - 23s 232ms/step - loss: 0.0263 - acc: 0.9895 - val_loss: 0.2552 - val_acc: 0.9340\n"
     ]
    },
    {
     "name": "stdout",
     "output_type": "stream",
     "text": [
      "Epoch 61/100\n",
      "100/100 [==============================] - 23s 232ms/step - loss: 0.0360 - acc: 0.9875 - val_loss: 0.2547 - val_acc: 0.9230\n",
      "Epoch 62/100\n",
      "100/100 [==============================] - 23s 232ms/step - loss: 0.0240 - acc: 0.9905 - val_loss: 0.2797 - val_acc: 0.9300\n",
      "Epoch 63/100\n",
      "100/100 [==============================] - 23s 231ms/step - loss: 0.0225 - acc: 0.9950 - val_loss: 0.2406 - val_acc: 0.9360\n",
      "Epoch 64/100\n",
      "100/100 [==============================] - 23s 232ms/step - loss: 0.0314 - acc: 0.9885 - val_loss: 0.2780 - val_acc: 0.9320\n",
      "Epoch 65/100\n",
      "100/100 [==============================] - 23s 232ms/step - loss: 0.0289 - acc: 0.9915 - val_loss: 0.2776 - val_acc: 0.9380\n",
      "Epoch 66/100\n",
      "100/100 [==============================] - 23s 231ms/step - loss: 0.0263 - acc: 0.9915 - val_loss: 0.2043 - val_acc: 0.9390\n",
      "Epoch 67/100\n",
      "100/100 [==============================] - 23s 232ms/step - loss: 0.0277 - acc: 0.9885 - val_loss: 0.2337 - val_acc: 0.9500\n",
      "Epoch 68/100\n",
      "100/100 [==============================] - 23s 231ms/step - loss: 0.0285 - acc: 0.9885 - val_loss: 0.2460 - val_acc: 0.9420\n",
      "Epoch 69/100\n",
      "100/100 [==============================] - 23s 231ms/step - loss: 0.0278 - acc: 0.9890 - val_loss: 0.2713 - val_acc: 0.9350\n",
      "Epoch 70/100\n",
      "100/100 [==============================] - 23s 232ms/step - loss: 0.0391 - acc: 0.9885 - val_loss: 0.2622 - val_acc: 0.9370\n",
      "Epoch 71/100\n",
      "100/100 [==============================] - 23s 232ms/step - loss: 0.0246 - acc: 0.9940 - val_loss: 0.3066 - val_acc: 0.9330\n",
      "Epoch 72/100\n",
      "100/100 [==============================] - 23s 231ms/step - loss: 0.0285 - acc: 0.9905 - val_loss: 0.2665 - val_acc: 0.9390\n",
      "Epoch 73/100\n",
      "100/100 [==============================] - 23s 232ms/step - loss: 0.0321 - acc: 0.9890 - val_loss: 0.2213 - val_acc: 0.9440\n",
      "Epoch 74/100\n",
      "100/100 [==============================] - 23s 232ms/step - loss: 0.0348 - acc: 0.9895 - val_loss: 0.2514 - val_acc: 0.9360\n",
      "Epoch 75/100\n",
      "100/100 [==============================] - 23s 232ms/step - loss: 0.0185 - acc: 0.9930 - val_loss: 0.3684 - val_acc: 0.9280\n",
      "Epoch 76/100\n",
      "100/100 [==============================] - 23s 232ms/step - loss: 0.0264 - acc: 0.9915 - val_loss: 0.2255 - val_acc: 0.9440\n",
      "Epoch 77/100\n",
      "100/100 [==============================] - 23s 232ms/step - loss: 0.0185 - acc: 0.9935 - val_loss: 0.3554 - val_acc: 0.9300\n",
      "Epoch 78/100\n",
      "100/100 [==============================] - 23s 231ms/step - loss: 0.0185 - acc: 0.9930 - val_loss: 0.4424 - val_acc: 0.9250\n",
      "Epoch 79/100\n",
      "100/100 [==============================] - 23s 231ms/step - loss: 0.0255 - acc: 0.9885 - val_loss: 0.2550 - val_acc: 0.9410\n",
      "Epoch 80/100\n",
      "100/100 [==============================] - 23s 231ms/step - loss: 0.0221 - acc: 0.9910 - val_loss: 0.3548 - val_acc: 0.9140\n",
      "Epoch 81/100\n",
      "100/100 [==============================] - 23s 232ms/step - loss: 0.0211 - acc: 0.9940 - val_loss: 0.2820 - val_acc: 0.9360\n",
      "Epoch 82/100\n",
      "100/100 [==============================] - 23s 232ms/step - loss: 0.0235 - acc: 0.9905 - val_loss: 0.3297 - val_acc: 0.9320\n",
      "Epoch 83/100\n",
      "100/100 [==============================] - 23s 231ms/step - loss: 0.0257 - acc: 0.9915 - val_loss: 0.3096 - val_acc: 0.9340\n",
      "Epoch 84/100\n",
      "100/100 [==============================] - 23s 232ms/step - loss: 0.0230 - acc: 0.9930 - val_loss: 0.2480 - val_acc: 0.9450\n",
      "Epoch 85/100\n",
      "100/100 [==============================] - 23s 232ms/step - loss: 0.0182 - acc: 0.9925 - val_loss: 0.3422 - val_acc: 0.9300\n",
      "Epoch 86/100\n",
      "100/100 [==============================] - 23s 232ms/step - loss: 0.0262 - acc: 0.9940 - val_loss: 0.3379 - val_acc: 0.9260\n",
      "Epoch 87/100\n",
      "100/100 [==============================] - 23s 231ms/step - loss: 0.0251 - acc: 0.9905 - val_loss: 0.2313 - val_acc: 0.9370\n",
      "Epoch 88/100\n",
      "100/100 [==============================] - 23s 232ms/step - loss: 0.0175 - acc: 0.9930 - val_loss: 0.3496 - val_acc: 0.9270\n",
      "Epoch 89/100\n",
      "100/100 [==============================] - 23s 232ms/step - loss: 0.0246 - acc: 0.9900 - val_loss: 0.4065 - val_acc: 0.9270\n",
      "Epoch 90/100\n",
      "100/100 [==============================] - 23s 232ms/step - loss: 0.0233 - acc: 0.9935 - val_loss: 0.3424 - val_acc: 0.9220\n",
      "Epoch 91/100\n",
      "100/100 [==============================] - 23s 231ms/step - loss: 0.0265 - acc: 0.9925 - val_loss: 0.2801 - val_acc: 0.9460\n",
      "Epoch 92/100\n",
      "100/100 [==============================] - 23s 232ms/step - loss: 0.0242 - acc: 0.9905 - val_loss: 0.3136 - val_acc: 0.9230\n",
      "Epoch 93/100\n",
      "100/100 [==============================] - 23s 233ms/step - loss: 0.0203 - acc: 0.9940 - val_loss: 0.1945 - val_acc: 0.9560\n",
      "Epoch 94/100\n",
      "100/100 [==============================] - 23s 232ms/step - loss: 0.0262 - acc: 0.9905 - val_loss: 0.3021 - val_acc: 0.9290\n",
      "Epoch 95/100\n",
      "100/100 [==============================] - 23s 232ms/step - loss: 0.0146 - acc: 0.9945 - val_loss: 0.2568 - val_acc: 0.9360\n",
      "Epoch 96/100\n",
      "100/100 [==============================] - 23s 232ms/step - loss: 0.0113 - acc: 0.9965 - val_loss: 0.2811 - val_acc: 0.9360\n",
      "Epoch 97/100\n",
      "100/100 [==============================] - 23s 232ms/step - loss: 0.0161 - acc: 0.9945 - val_loss: 0.2743 - val_acc: 0.9420\n",
      "Epoch 98/100\n",
      "100/100 [==============================] - 23s 233ms/step - loss: 0.0221 - acc: 0.9910 - val_loss: 0.2682 - val_acc: 0.9350\n",
      "Epoch 99/100\n",
      "100/100 [==============================] - 23s 232ms/step - loss: 0.0167 - acc: 0.9950 - val_loss: 0.2653 - val_acc: 0.9450\n",
      "Epoch 100/100\n",
      "100/100 [==============================] - 23s 232ms/step - loss: 0.0290 - acc: 0.9925 - val_loss: 0.2533 - val_acc: 0.9400\n"
     ]
    }
   ],
   "source": [
    "model.compile(loss='binary_crossentropy',\n",
    "              optimizer=optimizers.RMSprop(lr=1e-5),\n",
    "              metrics=['acc'])\n",
    "\n",
    "history = model.fit_generator(\n",
    "      train_generator,\n",
    "      steps_per_epoch=100,\n",
    "      epochs=100,\n",
    "      validation_data=validation_generator,\n",
    "      validation_steps=50)"
   ]
  },
  {
   "cell_type": "code",
   "execution_count": 18,
   "metadata": {},
   "outputs": [
    {
     "data": {
      "image/png": "[encoded data removed]",
      "text/plain": [
       "<Figure size 432x288 with 1 Axes>"
      ]
     },
     "metadata": {},
     "output_type": "display_data"
    },
    {
     "data": {
      "image/png": "[encoded data removed]",
      "text/plain": [
       "<Figure size 432x288 with 1 Axes>"
      ]
     },
     "metadata": {},
     "output_type": "display_data"
    }
   ],
   "source": [
    "def smooth_curve(points, factor=0.8):\n",
    "    smoothed_points = []\n",
    "    for point in points:\n",
    "        if smoothed_points:\n",
    "            previous = smoothed_points[-1]\n",
    "            smoothed_points.append(previous * factor + point * (1 - factor))\n",
    "        else:\n",
    "            smoothed_points.append(point)\n",
    "    return smoothed_points\n",
    "\n",
    "plt.plot(epochs,\n",
    "         smooth_curve(acc), 'bo', label='Smoothed training acc')\n",
    "plt.plot(epochs,\n",
    "         smooth_curve(val_acc), 'b', label='Smoothed validation acc')\n",
    "plt.title('Training and validation accuracy')\n",
    "plt.legend()\n",
    "\n",
    "plt.figure()\n",
    "\n",
    "plt.plot(epochs,\n",
    "         smooth_curve(loss), 'bo', label='Smoothed training loss')\n",
    "plt.plot(epochs,\n",
    "         smooth_curve(val_loss), 'b', label='Smoothed validation loss')\n",
    "plt.title('Training and validation loss')\n",
    "plt.legend()\n",
    "\n",
    "plt.show()"
   ]
  },
  {
   "cell_type": "code",
   "execution_count": 19,
   "metadata": {},
   "outputs": [
    {
     "name": "stdout",
     "output_type": "stream",
     "text": [
      "Found 1000 images belonging to 2 classes.\n",
      "test acc: 0.9399999964237213\n"
     ]
    }
   ],
   "source": [
    "test_generator = test_datagen.flow_from_directory(\n",
    "        test_dir,\n",
    "        target_size=(150, 150),\n",
    "        batch_size=20,\n",
    "        class_mode='binary')\n",
    "\n",
    "test_loss, test_acc = model.evaluate_generator(test_generator, steps=50)\n",
    "print('test acc:', test_acc)"
   ]
  }
 ],
 "metadata": {
  "kernelspec": {
   "display_name": "Python [conda env:tensorflow_p36]",
   "language": "python",
   "name": "conda-env-tensorflow_p36-py"
  },
  "language_info": {
   "codemirror_mode": {
    "name": "ipython",
    "version": 3
   },
   "file_extension": ".py",
   "mimetype": "text/x-python",
   "name": "python",
   "nbconvert_exporter": "python",
   "pygments_lexer": "ipython3",
   "version": "3.6.5"
  }
 },
 "nbformat": 4,
 "nbformat_minor": 2
}
